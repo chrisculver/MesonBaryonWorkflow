{
 "cells": [
  {
   "cell_type": "code",
   "execution_count": 1,
   "metadata": {},
   "outputs": [],
   "source": [
    "# Avoids reloading kernel while developing\n",
    "%load_ext autoreload\n",
    "%autoreload 2"
   ]
  },
  {
   "cell_type": "code",
   "execution_count": 3,
   "metadata": {},
   "outputs": [],
   "source": [
    "from WickContractions.wick.contract import *\n",
    "\n",
    "import os\n",
    "\n",
    "from src.utilities import *\n",
    "\n",
    "#pretty latex printing\n",
    "from IPython.display import display, Math \n",
    "pprint = lambda o : display(Math(str(o)))"
   ]
  },
  {
   "attachments": {},
   "cell_type": "markdown",
   "metadata": {},
   "source": [
    "## Operators\n",
    "\n",
    "First we have to define the operators"
   ]
  },
  {
   "cell_type": "code",
   "execution_count": 4,
   "metadata": {},
   "outputs": [],
   "source": [
    "from src.op_elementals import *\n",
    "\n",
    "aOps=[Operator([MesonBaryonSource(1,{'flavor': ['u','u','u'], 'x': 'x_0', 'gamma': '\\\\Gamma^B'},\n",
    "                                    {'flavor': ['u','d'], 'x':'x_1', 'gamma': '\\\\Gamma^M'})])]\n",
    "\n",
    "cOps=[Operator([MesonBaryonSink(1,{'flavor': ['u','u','u'], 'x': 'x_2', 'gamma': '\\\\Gamma^B'},\n",
    "                                    {'flavor': ['d','u'], 'x':'x_3', 'gamma': '\\\\Gamma^M'})])]"
   ]
  },
  {
   "cell_type": "code",
   "execution_count": 5,
   "metadata": {},
   "outputs": [
    {
     "data": {
      "text/latex": [
       "$\\displaystyle 1\\epsilon_{c_{0} c_{1} c_{2}}\\delta_{c_{3} c_{4}}\\Gamma^B_{s_{0} s_{1} s_{2}}\\Gamma^M_{s_{3} s_{4}}\\bar{u}_{s_{0} c_{0}}(x_0, t_i)\\bar{u}_{s_{1} c_{1}}(x_0, t_i)\\bar{u}_{s_{2} c_{2}}(x_0, t_i)\\bar{u}_{s_{3} c_{3}}(x_1, t_i)d_{s_{4} c_{4}}(x_1, t_i)$"
      ],
      "text/plain": [
       "<IPython.core.display.Math object>"
      ]
     },
     "metadata": {},
     "output_type": "display_data"
    },
    {
     "data": {
      "text/latex": [
       "$\\displaystyle 1\\epsilon_{c_{5} c_{6} c_{7}}\\delta_{c_{8} c_{9}}\\Gamma^B_{s_{5} s_{6} s_{7}}\\Gamma^M_{s_{8} s_{9}}u_{s_{5} c_{5}}(x_2, t_i)u_{s_{6} c_{6}}(x_2, t_i)u_{s_{7} c_{7}}(x_2, t_i)\\bar{d}_{s_{8} c_{8}}(x_3, t_i)u_{s_{9} c_{9}}(x_3, t_i)$"
      ],
      "text/plain": [
       "<IPython.core.display.Math object>"
      ]
     },
     "metadata": {},
     "output_type": "display_data"
    }
   ],
   "source": [
    "pprint(aOps[0])\n",
    "pprint(cOps[0])"
   ]
  },
  {
   "cell_type": "code",
   "execution_count": 6,
   "metadata": {},
   "outputs": [
    {
     "name": "stdout",
     "output_type": "stream",
     "text": [
      "Need to compute 24 diagrams\n"
     ]
    },
    {
     "data": {
      "text/latex": [
       "$\\displaystyle \\text{diagram}[0]=-1.0 \\Gamma^B_{s_{0} s_{1} s_{2}}\\Gamma^B_{s_{5} s_{6} s_{7}}\\Gamma^M_{s_{3} s_{4}}\\Gamma^M_{s_{8} s_{9}}\\delta_{c_{3} c_{4}}\\delta_{c_{8} c_{9}}\\epsilon_{c_{0} c_{1} c_{2}}\\epsilon_{c_{5} c_{6} c_{7}}D^{-1}_{u}(x_2,t_i\\mid x_0,t_i)_{\\substack{s_{7}\\\\c_{7}}\\substack{s_{0}\\\\c_{0}}}D^{-1}_{u}(x_3,t_i\\mid x_0,t_i)_{\\substack{s_{9}\\\\c_{9}}\\substack{s_{1}\\\\c_{1}}}D^{-1}_{u}(x_2,t_i\\mid x_0,t_i)_{\\substack{s_{5}\\\\c_{5}}\\substack{s_{2}\\\\c_{2}}}D^{-1}_{u}(x_2,t_i\\mid x_1,t_i)_{\\substack{s_{6}\\\\c_{6}}\\substack{s_{3}\\\\c_{3}}}D^{-1}_{d}(x_1,t_i\\mid x_3,t_i)_{\\substack{s_{4}\\\\c_{4}}\\substack{s_{8}\\\\c_{8}}}$"
      ],
      "text/plain": [
       "<IPython.core.display.Math object>"
      ]
     },
     "metadata": {},
     "output_type": "display_data"
    }
   ],
   "source": [
    "diagrams=[]\n",
    "for i,aOp in enumerate(aOps):\n",
    "    for j,cOp in enumerate(cOps):\n",
    "        for d in contract(aOp, cOp).diagrams:\n",
    "            diagrams.append(d)\n",
    "\n",
    "print(\"Need to compute {} diagrams\".format(len(diagrams)))\n",
    "pprint(\"\\\\text{{diagram}}[0]={}\".format(diagrams[0]))"
   ]
  },
  {
   "cell_type": "code",
   "execution_count": 11,
   "metadata": {},
   "outputs": [
    {
     "name": "stdout",
     "output_type": "stream",
     "text": [
      "T has different kinds of V's in it...\n",
      "T has different kinds of V's in it...\n",
      "T has different kinds of V's in it...\n",
      "T has different kinds of V's in it...\n",
      "T has different kinds of V's in it...\n",
      "T has different kinds of V's in it...\n",
      "T has different kinds of V's in it...\n",
      "T has different kinds of V's in it...\n",
      "T has different kinds of V's in it...\n",
      "T has different kinds of V's in it...\n",
      "T has different kinds of V's in it...\n",
      "T has different kinds of V's in it...\n",
      "T has different kinds of V's in it...\n",
      "T has different kinds of V's in it...\n",
      "T has different kinds of V's in it...\n",
      "T has different kinds of V's in it...\n",
      "T has different kinds of V's in it...\n",
      "T has different kinds of V's in it...\n",
      "T has different kinds of V's in it...\n",
      "T has different kinds of V's in it...\n",
      "T has different kinds of V's in it...\n",
      "T has different kinds of V's in it...\n",
      "T has different kinds of V's in it...\n",
      "T has different kinds of V's in it...\n",
      "T has different kinds of V's in it...\n",
      "T has different kinds of V's in it...\n",
      "T has different kinds of V's in it...\n",
      "T has different kinds of V's in it...\n",
      "T has different kinds of V's in it...\n",
      "T has different kinds of V's in it...\n",
      "T has different kinds of V's in it...\n",
      "T has different kinds of V's in it...\n",
      "T has different kinds of V's in it...\n",
      "T has different kinds of V's in it...\n",
      "T has different kinds of V's in it...\n",
      "T has different kinds of V's in it...\n",
      "T has different kinds of V's in it...\n",
      "T has different kinds of V's in it...\n",
      "T has different kinds of V's in it...\n",
      "T has different kinds of V's in it...\n",
      "T has different kinds of V's in it...\n",
      "T has different kinds of V's in it...\n",
      "T has different kinds of V's in it...\n",
      "T has different kinds of V's in it...\n",
      "T has different kinds of V's in it...\n",
      "T has different kinds of V's in it...\n",
      "T has different kinds of V's in it...\n",
      "T has different kinds of V's in it...\n"
     ]
    }
   ],
   "source": [
    "from WickContractions.laph.diagram import LDiagram\n",
    "\n",
    "ldiags=[]\n",
    "for d in diagrams:\n",
    "    ldiags.append(LDiagram(d))\n",
    "for d in ldiags:\n",
    "    d.create_baryon_blocks()"
   ]
  },
  {
   "cell_type": "code",
   "execution_count": 12,
   "metadata": {},
   "outputs": [
    {
     "data": {
      "text/plain": [
       "'-1.0 \\\\Gamma^B_{s_{0} s_{1} s_{2}}\\\\Gamma^B_{s_{5} s_{6} s_{7}}\\\\Gamma^M_{s_{3} s_{4}}\\\\Gamma^M_{s_{8} s_{9}}V*(x_2,t_i)_{l_{7} l_{0}}V(x_0,t_i)_{l_{0} l_{1}}V*(x_3,t_i)_{l_{9} l_{2}}V(x_0,t_i)_{l_{1} l_{3}}V*(x_2,t_i)_{l_{5} l_{4}}V(x_0,t_i)_{l_{2} l_{5}}V*(x_2,t_i)_{l_{6} l_{6}}V(x_1,t_i)_{l_{3} l_{7}}V*(x_1,t_i)_{l_{4} l_{8}}V(x_3,t_i)_{l_{8} l_{9}}T^?(x_3,t_i)_{l_{8} l_{9}}T^?(x_1,t_i)_{l_{3} l_{4}}T^*(x_2,t_i)_{l_{5} l_{6} l_{7}}T(x_0,t_i)_{l_{0} l_{1} l_{2}}\\\\tau(x_2,t_i\\\\mid x_0,t_i)_{\\\\substack{s_{7}\\\\\\\\l_{0}}\\\\substack{s_{0}\\\\\\\\l_{1}}}\\\\tau(x_3,t_i\\\\mid x_0,t_i)_{\\\\substack{s_{9}\\\\\\\\l_{2}}\\\\substack{s_{1}\\\\\\\\l_{3}}}\\\\tau(x_2,t_i\\\\mid x_0,t_i)_{\\\\substack{s_{5}\\\\\\\\l_{4}}\\\\substack{s_{2}\\\\\\\\l_{5}}}\\\\tau(x_2,t_i\\\\mid x_1,t_i)_{\\\\substack{s_{6}\\\\\\\\l_{6}}\\\\substack{s_{3}\\\\\\\\l_{7}}}\\\\tau(x_1,t_i\\\\mid x_3,t_i)_{\\\\substack{s_{4}\\\\\\\\l_{8}}\\\\substack{s_{8}\\\\\\\\l_{9}}}'"
      ]
     },
     "execution_count": 12,
     "metadata": {},
     "output_type": "execute_result"
    }
   ],
   "source": [
    "str(ldiags[0])"
   ]
  },
  {
   "cell_type": "code",
   "execution_count": null,
   "metadata": {},
   "outputs": [],
   "source": []
  }
 ],
 "metadata": {
  "kernelspec": {
   "display_name": "LQCD",
   "language": "python",
   "name": "python3"
  },
  "language_info": {
   "codemirror_mode": {
    "name": "ipython",
    "version": 3
   },
   "file_extension": ".py",
   "mimetype": "text/x-python",
   "name": "python",
   "nbconvert_exporter": "python",
   "pygments_lexer": "ipython3",
   "version": "3.9.12"
  },
  "orig_nbformat": 4
 },
 "nbformat": 4,
 "nbformat_minor": 2
}
