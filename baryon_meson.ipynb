{
 "cells": [
  {
   "cell_type": "code",
   "execution_count": 1,
   "metadata": {},
   "outputs": [],
   "source": [
    "# Avoids reloading kernel while developing\n",
    "%load_ext autoreload\n",
    "%autoreload 2"
   ]
  },
  {
   "cell_type": "code",
   "execution_count": 18,
   "metadata": {},
   "outputs": [],
   "source": [
    "from WickContractions.wick.contract import *\n",
    "from PyCorrelationMatrixManager.correlation_matrix import *\n",
    "\n",
    "import os\n",
    "import sys \n",
    "\n",
    "from src.utilities import *\n",
    "\n",
    "sys.path.append(os.path.join(os.path.expanduser('~'), \"Code\", \"LQCD\", \"contraction_optimizer_pymodule\"))\n",
    "\n",
    "#pretty latex printing\n",
    "from IPython.display import display, Math \n",
    "pprint = lambda o : display(Math(str(o)))\n",
    "\n",
    "\n",
    "import ContractionOptimizerCPP as CO"
   ]
  },
  {
   "attachments": {},
   "cell_type": "markdown",
   "metadata": {},
   "source": [
    "## Operators\n",
    "\n",
    "First we have to define the operators"
   ]
  },
  {
   "cell_type": "code",
   "execution_count": 20,
   "metadata": {},
   "outputs": [],
   "source": [
    "from src.op_elementals import *\n",
    "\n",
    "aOps=[mesonBaryonSource(\n",
    "    mesonData={'isospin': {'ud': 1}, 'x': 'x_0', 'g': '\\\\Gamma^M'},\n",
    "    baryonData={'isospin': {'uuu': 1}, 'x': 'x_0', 'g': '\\\\Gamma^B'},\n",
    "                                      )]\n",
    "\n",
    "cOps=[mesonBaryonSink(\n",
    "    mesonData={'isospin': {'du': 1}, 'x': 'x_0', 'g': '\\\\Gamma^M'},\n",
    "    baryonData={'isospin': {'uuu': 1}, 'x': 'x_0', 'g': '\\\\Gamma^B'},\n",
    "                                      )]"
   ]
  },
  {
   "cell_type": "code",
   "execution_count": 21,
   "metadata": {},
   "outputs": [
    {
     "data": {
      "text/latex": [
       "$\\displaystyle 1\\epsilon_{c_{10} c_{11} c_{12}}\\delta_{c_{13} c_{14}}\\Gamma^B_{s_{10} s_{11} s_{12}}\\Gamma^M_{s_{13} s_{14}}\\bar{u}_{s_{10} c_{10}}(x_0, t_i)\\bar{u}_{s_{11} c_{11}}(x_0, t_i)\\bar{u}_{s_{12} c_{12}}(x_0, t_i)\\bar{u}_{s_{13} c_{13}}(x_0, t_i)d_{s_{14} c_{14}}(x_0, t_i)$"
      ],
      "text/plain": [
       "<IPython.core.display.Math object>"
      ]
     },
     "metadata": {},
     "output_type": "display_data"
    }
   ],
   "source": [
    "for o in aOps:\n",
    "    pprint(o)"
   ]
  },
  {
   "cell_type": "code",
   "execution_count": 22,
   "metadata": {},
   "outputs": [
    {
     "data": {
      "text/latex": [
       "$\\displaystyle 1\\epsilon_{c_{15} c_{16} c_{17}}\\delta_{c_{18} c_{19}}\\Gamma^B_{s_{15} s_{16} s_{17}}\\Gamma^M_{s_{18} s_{19}}u_{s_{15} c_{15}}(x_0, t_f)u_{s_{16} c_{16}}(x_0, t_f)u_{s_{17} c_{17}}(x_0, t_f)\\bar{d}_{s_{18} c_{18}}(x_0, t_f)u_{s_{19} c_{19}}(x_0, t_f)$"
      ],
      "text/plain": [
       "<IPython.core.display.Math object>"
      ]
     },
     "metadata": {},
     "output_type": "display_data"
    }
   ],
   "source": [
    "for o in cOps:\n",
    "    pprint(o)"
   ]
  },
  {
   "cell_type": "code",
   "execution_count": 23,
   "metadata": {},
   "outputs": [],
   "source": [
    "corrMatrix = CorrelationMatrix(\n",
    "    cops=cOps, aops=aOps, \n",
    "    dts=[t for t in range(32)], t0s=[t for t in range(32)], \n",
    "    cfg=0)"
   ]
  },
  {
   "cell_type": "code",
   "execution_count": 24,
   "metadata": {},
   "outputs": [],
   "source": [
    "corrMatrix.contract()\n",
    "corrMatrix.laphify()"
   ]
  },
  {
   "cell_type": "code",
   "execution_count": 25,
   "metadata": {},
   "outputs": [
    {
     "data": {
      "text/plain": [
       "24"
      ]
     },
     "execution_count": 25,
     "metadata": {},
     "output_type": "execute_result"
    }
   ],
   "source": [
    "len(corrMatrix.get_all_diagrams())"
   ]
  },
  {
   "cell_type": "code",
   "execution_count": 26,
   "metadata": {},
   "outputs": [
    {
     "data": {
      "text/latex": [
       "$\\displaystyle 1.0 M(x_0,t_i,t_f,\\Gamma^M)_{{18} {11}}M(x_0,t_i,\\Gamma^M)_{{13} {18}}B^*(x_0,t_i,t_f,\\Gamma^B)_{{12} {13} {10}}B(x_0,t_i,\\Gamma^B)_{{10} {11} {12}}$"
      ],
      "text/plain": [
       "<IPython.core.display.Math object>"
      ]
     },
     "metadata": {},
     "output_type": "display_data"
    }
   ],
   "source": [
    "pprint(corrMatrix.get_all_diagrams()[0])"
   ]
  },
  {
   "cell_type": "code",
   "execution_count": 27,
   "metadata": {},
   "outputs": [
    {
     "name": "stdout",
     "output_type": "stream",
     "text": [
      "{0: 'M(x_0,t_i,t_f,\\\\Gamma^M)', 1: 'M(x_0,t_i,\\\\Gamma^M)', 2: 'B^*(x_0,t_i,t_f,\\\\Gamma^B)', 3: 'B(x_0,t_i,\\\\Gamma^B)'}\n",
      "{'3|2': [[2, 0], [0, 2]], '3|0': [[1, 1]], '2|1': [[1, 0]], '1|0': [[1, 0]]}\n"
     ]
    }
   ],
   "source": [
    "tensors,contractions=corrMatrix.correlators[0].diagrams[0].as_graph()\n",
    "print(tensors)\n",
    "print(contractions)"
   ]
  },
  {
   "cell_type": "code",
   "execution_count": 28,
   "metadata": {},
   "outputs": [],
   "source": [
    "def contraction_as_COgraph(contractions):\n",
    "    data=[]\n",
    "    for cname, cindices in contractions.items():\n",
    "        [l,r] = cname.split('|')\n",
    "        data.append(( (int(l),int(r)), set(tuple(t) for t in cindices) ))\n",
    "\n",
    "    return CO.Graph(data)"
   ]
  },
  {
   "cell_type": "code",
   "execution_count": 29,
   "metadata": {},
   "outputs": [],
   "source": [
    "global_tensors={}\n",
    "global_tidx=0   \n",
    "all_diagrams=[]\n",
    "duplicate_tensors_fix=[]\n",
    "\n",
    "# for the temporary fix, we have to through all the diagrams twice\n",
    "# first we have to get the global tensors list\n",
    "for i,d in enumerate(corrMatrix.get_all_diagrams()[0:1000]):\n",
    "    tensors, contractions = d.as_graph()\n",
    "    \n",
    "    for t in tensors.values():\n",
    "        if t not in global_tensors:\n",
    "            global_tensors[t]=global_tidx\n",
    "            global_tidx+=1\n",
    "\n",
    "for tensor in global_tensors.copy().keys():\n",
    "    global_tensors[tensor+\"-B\"]=global_tidx\n",
    "    global_tidx+=1\n",
    "\n",
    "for i,d in enumerate(corrMatrix.get_all_diagrams()[0:1000]):\n",
    "    tensors, contractions = d.as_graph()\n",
    "\n",
    "    cograph = contraction_as_COgraph(contractions)\n",
    "\n",
    "    gtensors=[]\n",
    "    duplicate_tensors_fix.append({})\n",
    "    for t in tensors.values():\n",
    "        if global_tensors[t] in gtensors:\n",
    "            gtensors.append(global_tensors[t+\"-B\"])\n",
    "        else:\n",
    "            gtensors.append(global_tensors[t])\n",
    "\n",
    "    #print(gtensors)\n",
    "    all_diagrams.append(CO.Diagram(cograph,gtensors))"
   ]
  },
  {
   "cell_type": "code",
   "execution_count": 30,
   "metadata": {},
   "outputs": [
    {
     "name": "stdout",
     "output_type": "stream",
     "text": [
      "Diagram  1 / 24\n",
      "Diagram  2 / 24\n",
      "Diagram  3 / 24\n",
      "Diagram  4 / 24\n",
      "Diagram  5 / 24\n",
      "Diagram  6 / 24\n",
      "Diagram  7 / 24\n",
      "Diagram  8 / 24\n",
      "Diagram  9 / 24\n",
      "Diagram  10 / 24\n",
      "Diagram  11 / 24\n",
      "Diagram  12 / 24\n",
      "Diagram  13 / 24\n",
      "Diagram  14 / 24\n",
      "Diagram  15 / 24\n",
      "Diagram  16 / 24\n",
      "Diagram  17 / 24\n",
      "Diagram  18 / 24\n",
      "Diagram  19 / 24\n",
      "Diagram  20 / 24\n",
      "Diagram  21 / 24\n",
      "Diagram  22 / 24\n",
      "Diagram  23 / 24\n",
      "Diagram  24 / 24\n"
     ]
    }
   ],
   "source": [
    "CO.ContractionCost.setDilutionRange(16)\n",
    "optimizer = CO.ContractionOptimizer(all_diagrams)\n",
    "optimizer.tune()"
   ]
  },
  {
   "cell_type": "code",
   "execution_count": 51,
   "metadata": {},
   "outputs": [
    {
     "name": "stdout",
     "output_type": "stream",
     "text": [
      "Contractions | GlobalTensor | ResultTensorIdx\n",
      "{(0, 2), (2, 0)}               |  (2, 3)  |   4  \n",
      "{(0, 1)}                       |  (0, 1)  |   5  \n",
      "{(0, 1), (1, 0)}               |  (4, 5)  |   6  \n",
      "{(0, 2), (2, 1)}               |  (2, 3)  |   7  \n",
      "{(0, 1), (1, 0)}               |  (5, 7)  |   8  \n",
      "{(2, 1), (0, 0)}               |  (2, 3)  |   9  \n",
      "{(0, 1), (1, 0)}               |  (5, 9)  |  10  \n",
      "{(0, 1), (2, 0)}               |  (2, 3)  |  11  \n",
      "{(0, 1), (1, 0)}               | (5, 11)  |  12  \n",
      "{(0, 1), (2, 2)}               |  (2, 3)  |  13  \n",
      "{(0, 1), (1, 0)}               | (5, 13)  |  14  \n",
      "{(2, 2), (0, 0)}               |  (2, 3)  |  15  \n",
      "{(0, 1), (1, 0)}               | (5, 15)  |  16  \n",
      "{(1, 1), (0, 2)}               |  (2, 3)  |  17  \n",
      "{(0, 1), (1, 0)}               | (5, 17)  |  18  \n",
      "{(1, 0), (0, 2)}               |  (2, 3)  |  19  \n",
      "{(0, 1), (1, 0)}               | (5, 19)  |  20  \n",
      "{(0, 1), (1, 0)}               |  (2, 3)  |  21  \n",
      "{(0, 1), (1, 0)}               | (5, 21)  |  22  \n",
      "{(1, 1), (0, 0)}               |  (2, 3)  |  23  \n",
      "{(0, 1), (1, 0)}               | (5, 23)  |  24  \n",
      "{(1, 2), (0, 0)}               |  (2, 3)  |  25  \n",
      "{(0, 1), (1, 0)}               | (5, 25)  |  26  \n",
      "{(0, 1), (1, 2)}               |  (2, 3)  |  27  \n",
      "{(0, 1), (1, 0)}               | (5, 27)  |  28  \n",
      "{(0, 1), (1, 2), (2, 0)}       |  (2, 3)  |  29  \n",
      "{(0, 1), (1, 0)}               |  (0, 1)  |  30  \n",
      "{(1, 2), (2, 1), (0, 0)}       |  (2, 3)  |  31  \n",
      "{(1, 1), (0, 2), (2, 0)}       |  (2, 3)  |  32  \n",
      "{(1, 0), (0, 2), (2, 1)}       |  (2, 3)  |  33  \n",
      "{(0, 1), (1, 0), (2, 2)}       |  (2, 3)  |  34  \n",
      "{(1, 1), (2, 2), (0, 0)}       |  (2, 3)  |  35  \n",
      "{(1, 1), (2, 2)}               |  (2, 3)  |  36  \n",
      "{(0, 1), (1, 0)}               | (5, 36)  |  37  \n",
      "{(1, 0), (2, 2)}               |  (2, 3)  |  38  \n",
      "{(0, 1), (1, 0)}               | (5, 38)  |  39  \n",
      "{(1, 2), (2, 0)}               |  (2, 3)  |  40  \n",
      "{(0, 1), (1, 0)}               | (5, 40)  |  41  \n",
      "{(1, 2), (2, 1)}               |  (2, 3)  |  42  \n",
      "{(0, 1), (1, 0)}               | (5, 42)  |  43  \n",
      "{(1, 1), (2, 0)}               |  (2, 3)  |  44  \n",
      "{(0, 1), (1, 0)}               | (5, 44)  |  45  \n",
      "{(1, 0), (2, 1)}               |  (2, 3)  |  46  \n",
      "{(0, 1), (1, 0)}               | (5, 46)  |  47  \n"
     ]
    }
   ],
   "source": [
    "print(\"Contractions | GlobalTensor | ResultTensorIdx\")\n",
    "for c in optimizer.getCompStepList():\n",
    "    print(\"{:<30} | {:^8} | {:^5}\".format(str(CO.Graph.decodeElement(c[0])), str(c[1]), str(c[2])))"
   ]
  },
  {
   "cell_type": "code",
   "execution_count": 34,
   "metadata": {},
   "outputs": [
    {
     "name": "stdout",
     "output_type": "stream",
     "text": [
      "[6]\n",
      "[8]\n",
      "[10]\n",
      "[12]\n",
      "[14]\n",
      "[16]\n",
      "[18]\n",
      "[20]\n",
      "[22]\n",
      "[24]\n",
      "[26]\n",
      "[28]\n",
      "[29, 30]\n",
      "[30, 31]\n",
      "[30, 32]\n",
      "[30, 33]\n",
      "[30, 34]\n",
      "[30, 35]\n",
      "[37]\n",
      "[39]\n",
      "[41]\n",
      "[43]\n",
      "[45]\n",
      "[47]\n"
     ]
    }
   ],
   "source": [
    "for d in optimizer.getDiagramList():\n",
    "    print(d.getResultIdList())"
   ]
  },
  {
   "cell_type": "code",
   "execution_count": null,
   "metadata": {},
   "outputs": [],
   "source": []
  }
 ],
 "metadata": {
  "kernelspec": {
   "display_name": "LQCD",
   "language": "python",
   "name": "python3"
  },
  "language_info": {
   "codemirror_mode": {
    "name": "ipython",
    "version": 3
   },
   "file_extension": ".py",
   "mimetype": "text/x-python",
   "name": "python",
   "nbconvert_exporter": "python",
   "pygments_lexer": "ipython3",
   "version": "3.9.17"
  },
  "orig_nbformat": 4
 },
 "nbformat": 4,
 "nbformat_minor": 2
}
