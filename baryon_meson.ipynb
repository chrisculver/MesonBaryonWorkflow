{
 "cells": [
  {
   "cell_type": "code",
   "execution_count": 14,
   "metadata": {},
   "outputs": [
    {
     "name": "stdout",
     "output_type": "stream",
     "text": [
      "The autoreload extension is already loaded. To reload it, use:\n",
      "  %reload_ext autoreload\n"
     ]
    }
   ],
   "source": [
    "# Avoids reloading kernel while developing\n",
    "%load_ext autoreload\n",
    "%autoreload 2"
   ]
  },
  {
   "cell_type": "code",
   "execution_count": 15,
   "metadata": {},
   "outputs": [],
   "source": [
    "from WickContractions.wick.contract import *\n",
    "\n",
    "import os\n",
    "\n",
    "from src.utilities import *\n",
    "\n",
    "#pretty latex printing\n",
    "from IPython.display import display, Math \n",
    "pprint = lambda o : display(Math(str(o)))"
   ]
  },
  {
   "attachments": {},
   "cell_type": "markdown",
   "metadata": {},
   "source": [
    "## Operators\n",
    "\n",
    "First we have to define the operators"
   ]
  },
  {
   "cell_type": "code",
   "execution_count": 16,
   "metadata": {},
   "outputs": [],
   "source": [
    "from src.op_elementals import *\n",
    "\n",
    "aOps=[Operator([MesonBaryonSource(1,{'flavor': ['u','u','u'], 'x': 'x_0', 'gamma': '\\\\Gamma^B'},\n",
    "                                    {'flavor': ['u','d'], 'x':'x_1', 'gamma': '\\\\Gamma^M'})])]\n",
    "\n",
    "cOps=[Operator([MesonBaryonSink(1,{'flavor': ['u','u','u'], 'x': 'x_2', 'gamma': '\\\\Gamma^B'},\n",
    "                                    {'flavor': ['d','u'], 'x':'x_3', 'gamma': '\\\\Gamma^M'})])]"
   ]
  },
  {
   "cell_type": "code",
   "execution_count": 17,
   "metadata": {},
   "outputs": [
    {
     "data": {
      "text/latex": [
       "$\\displaystyle 1\\epsilon_{c_{10} c_{11} c_{12}}\\delta_{c_{13} c_{14}}\\Gamma^B_{s_{10} s_{11} s_{12}}\\Gamma^M_{s_{13} s_{14}}\\bar{u}_{s_{10} c_{10}}(x_0, t_i)\\bar{u}_{s_{11} c_{11}}(x_0, t_i)\\bar{u}_{s_{12} c_{12}}(x_0, t_i)\\bar{u}_{s_{13} c_{13}}(x_1, t_i)d_{s_{14} c_{14}}(x_1, t_i)$"
      ],
      "text/plain": [
       "<IPython.core.display.Math object>"
      ]
     },
     "metadata": {},
     "output_type": "display_data"
    },
    {
     "data": {
      "text/latex": [
       "$\\displaystyle 1\\epsilon_{c_{15} c_{16} c_{17}}\\delta_{c_{18} c_{19}}\\Gamma^B_{s_{15} s_{16} s_{17}}\\Gamma^M_{s_{18} s_{19}}u_{s_{15} c_{15}}(x_2, t_f)u_{s_{16} c_{16}}(x_2, t_f)u_{s_{17} c_{17}}(x_2, t_f)\\bar{d}_{s_{18} c_{18}}(x_3, t_f)u_{s_{19} c_{19}}(x_3, t_f)$"
      ],
      "text/plain": [
       "<IPython.core.display.Math object>"
      ]
     },
     "metadata": {},
     "output_type": "display_data"
    }
   ],
   "source": [
    "pprint(aOps[0])\n",
    "pprint(cOps[0])"
   ]
  },
  {
   "cell_type": "code",
   "execution_count": 18,
   "metadata": {},
   "outputs": [
    {
     "name": "stdout",
     "output_type": "stream",
     "text": [
      "Need to compute 24 diagrams\n"
     ]
    },
    {
     "data": {
      "text/latex": [
       "$\\displaystyle \\text{diagram}[0]=-1.0 \\Gamma^B_{s_{10} s_{11} s_{12}}\\Gamma^B_{s_{15} s_{16} s_{17}}\\Gamma^M_{s_{13} s_{14}}\\Gamma^M_{s_{18} s_{19}}\\delta_{c_{13} c_{14}}\\delta_{c_{18} c_{19}}\\epsilon_{c_{10} c_{11} c_{12}}\\epsilon_{c_{15} c_{16} c_{17}}D^{-1}_{u}(x_2,t_f\\mid x_0,t_i)_{\\substack{s_{17}\\\\c_{17}}\\substack{s_{10}\\\\c_{10}}}D^{-1}_{u}(x_3,t_f\\mid x_0,t_i)_{\\substack{s_{19}\\\\c_{19}}\\substack{s_{11}\\\\c_{11}}}D^{-1}_{u}(x_2,t_f\\mid x_0,t_i)_{\\substack{s_{15}\\\\c_{15}}\\substack{s_{12}\\\\c_{12}}}D^{-1}_{u}(x_2,t_f\\mid x_1,t_i)_{\\substack{s_{16}\\\\c_{16}}\\substack{s_{13}\\\\c_{13}}}D^{-1}_{d}(x_1,t_i\\mid x_3,t_f)_{\\substack{s_{14}\\\\c_{14}}\\substack{s_{18}\\\\c_{18}}}$"
      ],
      "text/plain": [
       "<IPython.core.display.Math object>"
      ]
     },
     "metadata": {},
     "output_type": "display_data"
    }
   ],
   "source": [
    "diagrams=[]\n",
    "for i,aOp in enumerate(aOps):\n",
    "    for j,cOp in enumerate(cOps):\n",
    "        for d in contract(aOp, cOp).diagrams:\n",
    "            diagrams.append(d)\n",
    "\n",
    "print(\"Need to compute {} diagrams\".format(len(diagrams)))\n",
    "pprint(\"\\\\text{{diagram}}[0]={}\".format(diagrams[0]))"
   ]
  },
  {
   "cell_type": "code",
   "execution_count": 19,
   "metadata": {},
   "outputs": [],
   "source": [
    "from WickContractions.laph.diagram import LDiagram\n",
    "\n",
    "ldiags=[]\n",
    "for d in diagrams:\n",
    "    ldiags.append(LDiagram(d))\n",
    "for d in ldiags:\n",
    "    d.create_b_blocks()\n",
    "    d.create_m_blocks()\n",
    "    d.create_hadron_blocks()\n",
    "    d.combine_indices()\n",
    "    d.create_hadron_source()"
   ]
  },
  {
   "cell_type": "code",
   "execution_count": 20,
   "metadata": {},
   "outputs": [
    {
     "data": {
      "text/latex": [
       "$\\displaystyle -1.0 M(x_3,t_i,t_f,\\Gamma^M)_{{18} {11}}M(x_1,t_i,\\Gamma^M)_{{13} {18}}B^*(x_2,t_i,t_f,\\Gamma^B)_{{12} {13} {10}}B(x_0,t_i,\\Gamma^B)_{{10} {11} {12}}$"
      ],
      "text/plain": [
       "<IPython.core.display.Math object>"
      ]
     },
     "metadata": {},
     "output_type": "display_data"
    }
   ],
   "source": [
    "pprint(ldiags[0])"
   ]
  },
  {
   "cell_type": "code",
   "execution_count": null,
   "metadata": {},
   "outputs": [],
   "source": []
  },
  {
   "cell_type": "code",
   "execution_count": 21,
   "metadata": {},
   "outputs": [
    {
     "data": {
      "text/plain": [
       "{'B(x_0,t_i,\\\\Gamma^B)|B^*(x_2,t_i,t_f,\\\\Gamma^B)': [[2, 0], [0, 2]],\n",
       " 'B(x_0,t_i,\\\\Gamma^B)|M(x_3,t_i,t_f,\\\\Gamma^M)': [[1, 1]],\n",
       " 'B^*(x_2,t_i,t_f,\\\\Gamma^B)|M(x_1,t_i,\\\\Gamma^M)': [[1, 0]],\n",
       " 'M(x_1,t_i,\\\\Gamma^M)|M(x_3,t_i,t_f,\\\\Gamma^M)': [[1, 0]]}"
      ]
     },
     "execution_count": 21,
     "metadata": {},
     "output_type": "execute_result"
    }
   ],
   "source": [
    "ldiags[0].as_graph()"
   ]
  },
  {
   "cell_type": "code",
   "execution_count": null,
   "metadata": {},
   "outputs": [],
   "source": []
  },
  {
   "cell_type": "markdown",
   "metadata": {},
   "source": [
    "## uuu (ubd) -> bububu (bu d)\n",
    "\n",
    "$$\n",
    "    d0 = B_{012}M_{23}B_{014}M_{43} \\\\\n",
    "    d1 = B_{012}M_{34}B_{012}M_{34}.\n",
    "$$\n",
    "\n",
    "You should compute \n",
    "\n",
    "$$\n",
    "A_{23} = B_{012}B_{013}\n",
    "$$\n",
    "\n",
    "Then\n",
    "\n",
    "$$\n",
    "    d0 = A_{24}M_{23}M_{43} \\\\ \n",
    "    d1 = A_{22}M_{34}M_{34}\n",
    "$$"
   ]
  },
  {
   "cell_type": "markdown",
   "metadata": {},
   "source": []
  }
 ],
 "metadata": {
  "kernelspec": {
   "display_name": "LQCD",
   "language": "python",
   "name": "python3"
  },
  "language_info": {
   "codemirror_mode": {
    "name": "ipython",
    "version": 3
   },
   "file_extension": ".py",
   "mimetype": "text/x-python",
   "name": "python",
   "nbconvert_exporter": "python",
   "pygments_lexer": "ipython3",
   "version": "3.9.7"
  },
  "orig_nbformat": 4
 },
 "nbformat": 4,
 "nbformat_minor": 2
}
