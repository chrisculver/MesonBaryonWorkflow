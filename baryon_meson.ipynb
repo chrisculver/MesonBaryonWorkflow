{
 "cells": [
  {
   "cell_type": "code",
   "execution_count": 23,
   "metadata": {},
   "outputs": [
    {
     "name": "stdout",
     "output_type": "stream",
     "text": [
      "The autoreload extension is already loaded. To reload it, use:\n",
      "  %reload_ext autoreload\n"
     ]
    }
   ],
   "source": [
    "# Avoids reloading kernel while developing\n",
    "%load_ext autoreload\n",
    "%autoreload 2"
   ]
  },
  {
   "cell_type": "code",
   "execution_count": 29,
   "metadata": {},
   "outputs": [],
   "source": [
    "from WickContractions.wick.contract import *\n",
    "from src.laph_diagram import *\n",
    "\n",
    "import os\n",
    "\n",
    "from src.utilities import *\n",
    "\n",
    "#pretty latex printing\n",
    "from IPython.display import display, Math \n",
    "pprint = lambda o : display(Math(str(o)))"
   ]
  },
  {
   "attachments": {},
   "cell_type": "markdown",
   "metadata": {},
   "source": [
    "## Operators\n",
    "\n",
    "First we have to define the operators"
   ]
  },
  {
   "cell_type": "code",
   "execution_count": 30,
   "metadata": {},
   "outputs": [],
   "source": [
    "from src.op_elementals import *\n",
    "\n",
    "aOps=[Operator([MesonBaryonSource(1,{'flavor': ['u','u','u'], 'x': 'x_0', 'gamma': '\\\\Gamma^B'},\n",
    "                                    {'flavor': ['u','d'], 'x':'x_1', 'gamma': '\\\\Gamma^M'})])]\n",
    "\n",
    "cOps=[Operator([MesonBaryonSink(1,{'flavor': ['u','u','u'], 'x': 'x_2', 'gamma': '\\\\Gamma^B'},\n",
    "                                    {'flavor': ['d','u'], 'x':'x_3', 'gamma': '\\\\Gamma^M'})])]"
   ]
  },
  {
   "cell_type": "code",
   "execution_count": 31,
   "metadata": {},
   "outputs": [
    {
     "data": {
      "text/latex": [
       "$\\displaystyle 1\\epsilon_{c_{20} c_{21} c_{22}}\\delta_{c_{23} c_{24}}\\Gamma^B_{s_{20} s_{21}}\\Gamma^M_{s_{23} s_{24}}\\bar{u}_{s_{20} c_{20}}(x_0, t_i)\\bar{u}_{s_{21} c_{21}}(x_0, t_i)\\bar{u}_{s_{22} c_{22}}(x_0, t_i)\\bar{u}_{s_{23} c_{23}}(x_1, t_i)d_{s_{24} c_{24}}(x_1, t_i)$"
      ],
      "text/plain": [
       "<IPython.core.display.Math object>"
      ]
     },
     "metadata": {},
     "output_type": "display_data"
    },
    {
     "data": {
      "text/latex": [
       "$\\displaystyle 1\\epsilon_{c_{25} c_{26} c_{27}}\\delta_{c_{28} c_{29}}\\Gamma^B_{s_{25} s_{26}}\\Gamma^M_{s_{28} s_{29}}u_{s_{25} c_{25}}(x_2, t_i)u_{s_{26} c_{26}}(x_2, t_i)u_{s_{27} c_{27}}(x_2, t_i)\\bar{d}_{s_{28} c_{28}}(x_3, t_i)u_{s_{29} c_{29}}(x_3, t_i)$"
      ],
      "text/plain": [
       "<IPython.core.display.Math object>"
      ]
     },
     "metadata": {},
     "output_type": "display_data"
    }
   ],
   "source": [
    "pprint(aOps[0])\n",
    "pprint(cOps[0])"
   ]
  },
  {
   "cell_type": "code",
   "execution_count": 32,
   "metadata": {},
   "outputs": [
    {
     "name": "stdout",
     "output_type": "stream",
     "text": [
      "Need to compute 24 diagrams\n"
     ]
    },
    {
     "data": {
      "text/latex": [
       "$\\displaystyle \\text{diagram}[0]=-1.0 \\Gamma^B_{s_{20} s_{21}}\\Gamma^B_{s_{25} s_{26}}\\Gamma^M_{s_{23} s_{24}}\\Gamma^M_{s_{28} s_{29}}\\delta_{c_{23} c_{24}}\\delta_{c_{28} c_{29}}\\epsilon_{c_{20} c_{21} c_{22}}\\epsilon_{c_{25} c_{26} c_{27}}D^{-1}_{u}(x_2,t_i\\mid x_0,t_i)_{\\substack{s_{27}\\\\c_{27}}\\substack{s_{20}\\\\c_{20}}}D^{-1}_{u}(x_3,t_i\\mid x_0,t_i)_{\\substack{s_{29}\\\\c_{29}}\\substack{s_{21}\\\\c_{21}}}D^{-1}_{u}(x_2,t_i\\mid x_0,t_i)_{\\substack{s_{25}\\\\c_{25}}\\substack{s_{22}\\\\c_{22}}}D^{-1}_{u}(x_2,t_i\\mid x_1,t_i)_{\\substack{s_{26}\\\\c_{26}}\\substack{s_{23}\\\\c_{23}}}D^{-1}_{d}(x_1,t_i\\mid x_3,t_i)_{\\substack{s_{24}\\\\c_{24}}\\substack{s_{28}\\\\c_{28}}}$"
      ],
      "text/plain": [
       "<IPython.core.display.Math object>"
      ]
     },
     "metadata": {},
     "output_type": "display_data"
    }
   ],
   "source": [
    "diagrams=[]\n",
    "for i,aOp in enumerate(aOps):\n",
    "    for j,cOp in enumerate(cOps):\n",
    "        for d in contract(aOp, cOp).diagrams:\n",
    "            diagrams.append(d)\n",
    "\n",
    "print(\"Need to compute {} diagrams\".format(len(diagrams)))\n",
    "pprint(\"\\\\text{{diagram}}[0]={}\".format(diagrams[0]))"
   ]
  },
  {
   "cell_type": "code",
   "execution_count": 34,
   "metadata": {},
   "outputs": [
    {
     "data": {
      "text/latex": [
       "$\\displaystyle -1.0 \\Gamma^B_{s_{20} s_{21}}\\Gamma^B_{s_{25} s_{26}}\\Gamma^M_{s_{23} s_{24}}\\Gamma^M_{s_{28} s_{29}}\\delta_{c_{23} c_{24}}\\delta_{c_{28} c_{29}}V^*(x_3,t_i)_{c_{29} l_{29}}V(x_1,t_i)_{c_{23} l_{23}}V^*(x_1,t_i)_{c_{24} l_{24}}V(x_3,t_i)_{c_{28} l_{28}}T^*(x_2,t_i)_{l_{25} l_{26} l_{27}}T(x_0,t_i)_{l_{20} l_{21} l_{22}}\\tau(x_2,t_i\\mid x_0,t_i)_{\\substack{s_{27}\\\\l_{27}}\\substack{s_{20}\\\\l_{20}}}\\tau(x_3,t_i\\mid x_0,t_i)_{\\substack{s_{29}\\\\l_{29}}\\substack{s_{21}\\\\l_{21}}}\\tau(x_2,t_i\\mid x_0,t_i)_{\\substack{s_{25}\\\\l_{25}}\\substack{s_{22}\\\\l_{22}}}\\tau(x_2,t_i\\mid x_1,t_i)_{\\substack{s_{26}\\\\l_{26}}\\substack{s_{23}\\\\l_{23}}}\\tau(x_1,t_i\\mid x_3,t_i)_{\\substack{s_{24}\\\\l_{24}}\\substack{s_{28}\\\\l_{28}}}$"
      ],
      "text/plain": [
       "<IPython.core.display.Math object>"
      ]
     },
     "metadata": {},
     "output_type": "display_data"
    }
   ],
   "source": [
    "laphDiagrams = [LDiagram(d) for d in copy.deepcopy(diagrams)]\n",
    "\n",
    "for d in laphDiagrams:\n",
    "    d.create_T_blocks()\n",
    "\n",
    "pprint(laphDiagrams[0])"
   ]
  },
  {
   "cell_type": "code",
   "execution_count": null,
   "metadata": {},
   "outputs": [],
   "source": []
  },
  {
   "cell_type": "code",
   "execution_count": null,
   "metadata": {},
   "outputs": [],
   "source": []
  }
 ],
 "metadata": {
  "kernelspec": {
   "display_name": "LQCD",
   "language": "python",
   "name": "python3"
  },
  "language_info": {
   "codemirror_mode": {
    "name": "ipython",
    "version": 3
   },
   "file_extension": ".py",
   "mimetype": "text/x-python",
   "name": "python",
   "nbconvert_exporter": "python",
   "pygments_lexer": "ipython3",
   "version": "3.10.6"
  },
  "orig_nbformat": 4
 },
 "nbformat": 4,
 "nbformat_minor": 2
}
