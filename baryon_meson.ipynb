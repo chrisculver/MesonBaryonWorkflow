{
 "cells": [
  {
   "cell_type": "code",
   "execution_count": 1,
   "metadata": {},
   "outputs": [],
   "source": [
    "# Avoids reloading kernel while developing\n",
    "%load_ext autoreload\n",
    "%autoreload 2"
   ]
  },
  {
   "cell_type": "code",
   "execution_count": 9,
   "metadata": {},
   "outputs": [],
   "source": [
    "from WickContractions.wick.contract import *\n",
    "from PyCorrelationMatrixManager.correlation_matrix import *\n",
    "\n",
    "import os\n",
    "import sys \n",
    "\n",
    "from src.utilities import *\n",
    "\n",
    "#pretty latex printing\n",
    "from IPython.display import display, Math \n",
    "pprint = lambda o : display(Math(str(o)))"
   ]
  },
  {
   "attachments": {},
   "cell_type": "markdown",
   "metadata": {},
   "source": [
    "## Operators\n",
    "\n",
    "First we have to define the operators"
   ]
  },
  {
   "cell_type": "code",
   "execution_count": 3,
   "metadata": {},
   "outputs": [],
   "source": [
    "from src.op_elementals import *\n",
    "\n",
    "aOps=[Operator([MesonBaryonSource(1,{'flavor': ['u','u','u'], 'x': 'x_0', 'gamma': '\\\\Gamma^B'},\n",
    "                                    {'flavor': ['u','d'], 'x':'x_1', 'gamma': '\\\\Gamma^M'})])]\n",
    "\n",
    "cOps=[Operator([MesonBaryonSink(1,{'flavor': ['u','u','u'], 'x': 'x_2', 'gamma': '\\\\Gamma^B'},\n",
    "                                    {'flavor': ['d','u'], 'x':'x_3', 'gamma': '\\\\Gamma^M'})])]"
   ]
  }
 ],
 "metadata": {
  "kernelspec": {
   "display_name": "LQCD",
   "language": "python",
   "name": "python3"
  },
  "language_info": {
   "codemirror_mode": {
    "name": "ipython",
    "version": 3
   },
   "file_extension": ".py",
   "mimetype": "text/x-python",
   "name": "python",
   "nbconvert_exporter": "python",
   "pygments_lexer": "ipython3",
   "version": "3.9.7"
  },
  "orig_nbformat": 4
 },
 "nbformat": 4,
 "nbformat_minor": 2
}
