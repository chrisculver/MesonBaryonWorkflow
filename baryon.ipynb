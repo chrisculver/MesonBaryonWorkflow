{
 "cells": [
  {
   "attachments": {},
   "cell_type": "markdown",
   "metadata": {},
   "source": [
    "# Baryon correlator with LapH\n",
    "\n",
    "This notebook is a work in progress.  Important notes about limitations.\n",
    "\n",
    "1.  The operators used are \"Baryon Elemental\" operators, and not necassrily definite spin (lattice irrep)/isospin.  In practice the operator construction at the start needs to be done correctly.\n",
    "\n",
    "2.  Previously I was doing only mesons, or $N_c=4$ baryons, where the Baryon tensors \"defined\" below don't have any free indices.  I just need to think through what to do.  Probably most of the code in WickContractions/LapH/diagrams.py still works (and indeed T function construction does).  \n",
    "\n",
    "3.  Need to define a \"meson T function\" with $\\delta$ instead of $\\epsilon$"
   ]
  },
  {
   "cell_type": "code",
   "execution_count": 1,
   "metadata": {},
   "outputs": [],
   "source": [
    "# Avoids reloading kernel while developing\n",
    "%load_ext autoreload\n",
    "%autoreload 2"
   ]
  },
  {
   "cell_type": "code",
   "execution_count": 17,
   "metadata": {},
   "outputs": [],
   "source": [
    "from WickContractions.wick.contract import *\n",
    "from src.laph_diagram import *\n",
    "\n",
    "import os\n",
    "\n",
    "from src.utilities import *\n",
    "\n",
    "#pretty latex printing\n",
    "from IPython.display import display, Math \n",
    "pprint = lambda o : display(Math(str(o)))"
   ]
  },
  {
   "attachments": {},
   "cell_type": "markdown",
   "metadata": {},
   "source": [
    "## Operators\n",
    "\n",
    "First we have to define the operators"
   ]
  },
  {
   "cell_type": "code",
   "execution_count": 18,
   "metadata": {},
   "outputs": [],
   "source": [
    "from src.op_elementals import *\n",
    "\n",
    "aOps=[Operator([baryonSink(1,['u','u','u'],'x_0','\\\\Gamma')])]\n",
    "cOps=[Operator([baryonSource(1,['u','u','u'],'x_0','\\\\Gamma')])]"
   ]
  },
  {
   "cell_type": "code",
   "execution_count": 19,
   "metadata": {},
   "outputs": [
    {
     "data": {
      "text/latex": [
       "$\\displaystyle 1\\epsilon_{c_{6} c_{7} c_{8}}\\Gamma_{s_{6} s_{7}}u_{s_{6} c_{6}}(x_0, t_f)u_{s_{7} c_{7}}(x_0, t_f)u_{s_{8} c_{8}}(x_0, t_f)$"
      ],
      "text/plain": [
       "<IPython.core.display.Math object>"
      ]
     },
     "metadata": {},
     "output_type": "display_data"
    },
    {
     "data": {
      "text/latex": [
       "$\\displaystyle 1\\epsilon_{c_{9} c_{10} c_{11}}\\Gamma_{s_{9} s_{10}}\\bar{u}_{s_{9} c_{9}}(x_0, t_i)\\bar{u}_{s_{10} c_{10}}(x_0, t_i)\\bar{u}_{s_{11} c_{11}}(x_0, t_i)$"
      ],
      "text/plain": [
       "<IPython.core.display.Math object>"
      ]
     },
     "metadata": {},
     "output_type": "display_data"
    }
   ],
   "source": [
    "pprint(aOps[0])\n",
    "pprint(cOps[0])\n"
   ]
  },
  {
   "cell_type": "code",
   "execution_count": 20,
   "metadata": {},
   "outputs": [
    {
     "name": "stdout",
     "output_type": "stream",
     "text": [
      "Need to compute 6 diagrams\n"
     ]
    },
    {
     "data": {
      "text/latex": [
       "$\\displaystyle \\text{diagram}[0]=-1.0 \\Gamma_{s_{6} s_{7}}\\Gamma_{s_{9} s_{10}}\\epsilon_{c_{6} c_{7} c_{8}}\\epsilon_{c_{9} c_{10} c_{11}}D^{-1}_{u}(x_0,t_f\\mid x_0,t_i)_{\\substack{s_{6}\\\\c_{6}}\\substack{s_{9}\\\\c_{9}}}D^{-1}_{u}(x_0,t_f\\mid x_0,t_i)_{\\substack{s_{7}\\\\c_{7}}\\substack{s_{10}\\\\c_{10}}}D^{-1}_{u}(x_0,t_f\\mid x_0,t_i)_{\\substack{s_{8}\\\\c_{8}}\\substack{s_{11}\\\\c_{11}}}$"
      ],
      "text/plain": [
       "<IPython.core.display.Math object>"
      ]
     },
     "metadata": {},
     "output_type": "display_data"
    }
   ],
   "source": [
    "diagrams=[]\n",
    "for i,aOp in enumerate(aOps):\n",
    "    for j,cOp in enumerate(cOps):\n",
    "        for d in contract(aOp, cOp).diagrams:\n",
    "            diagrams.append(d)\n",
    "\n",
    "print(\"Need to compute {} diagrams\".format(len(diagrams)))\n",
    "pprint(\"\\\\text{{diagram}}[0]={}\".format(diagrams[0]))"
   ]
  },
  {
   "cell_type": "code",
   "execution_count": null,
   "metadata": {},
   "outputs": [],
   "source": []
  },
  {
   "attachments": {},
   "cell_type": "markdown",
   "metadata": {},
   "source": [
    "## LapH\n",
    "\n",
    "Here we take a short cut to replace the above expressions with their LapH versions.  LapH is of course a type of smearing applied to the quarks.  At the level of propagators we can replace inversions of the diract matrix with \n",
    "\n",
    "$$\n",
    "    D^{-1}(x,t\\mid x_0 t_0)_{\\substack{s \\\\ c}\\substack{s_0 \\\\ c_0}} \\rightarrow V^*(x,t)_{c l}\\tau(x,t\\mid x_0, t_0)_{\\substack{s \\\\ l}\\substack{s_0 \\\\ l_0}}V(x_0,t_0)_{c_0 l_0}\n",
    "$$"
   ]
  },
  {
   "cell_type": "code",
   "execution_count": 21,
   "metadata": {},
   "outputs": [
    {
     "data": {
      "text/latex": [
       "$\\displaystyle -1.0 \\Gamma_{s_{6} s_{7}}\\Gamma_{s_{9} s_{10}}\\epsilon_{c_{6} c_{7} c_{8}}\\epsilon_{c_{9} c_{10} c_{11}}V^*(x_0,t_f)_{c_{6} l_{6}}V(x_0,t_i)_{c_{9} l_{9}}V^*(x_0,t_f)_{c_{7} l_{7}}V(x_0,t_i)_{c_{10} l_{10}}V^*(x_0,t_f)_{c_{8} l_{8}}V(x_0,t_i)_{c_{11} l_{11}}\\tau(x_0,t_f\\mid x_0,t_i)_{\\substack{s_{6}\\\\l_{6}}\\substack{s_{9}\\\\l_{9}}}\\tau(x_0,t_f\\mid x_0,t_i)_{\\substack{s_{7}\\\\l_{7}}\\substack{s_{10}\\\\l_{10}}}\\tau(x_0,t_f\\mid x_0,t_i)_{\\substack{s_{8}\\\\l_{8}}\\substack{s_{11}\\\\l_{11}}}$"
      ],
      "text/plain": [
       "<IPython.core.display.Math object>"
      ]
     },
     "metadata": {},
     "output_type": "display_data"
    }
   ],
   "source": [
    "laphDiagrams = [LDiagram(d) for d in copy.deepcopy(diagrams)]\n",
    "\n",
    "pprint(laphDiagrams[0])"
   ]
  },
  {
   "attachments": {},
   "cell_type": "markdown",
   "metadata": {},
   "source": [
    "The product of $V$'s, epsilons and gammas all come from specific operators, and be computed for the entire correlation matrix, thus it's useful to define the following tensors\n",
    "\n",
    "$$\n",
    "    T(x,t)_{l_0l_1l_2}=\\epsilon_{c_0c_1c_2}V(x,t)_{c_0l_0}V(x,t)_{c_1l_1}V(x,t)_{c_2l_2}\n",
    "$$\n",
    "and\n",
    "$$\n",
    "    B(x,t,\\Gamma)_{ijk}=\\Gamma_{s_0s_1}T(x,t)_{l_0l_1l_2}.\n",
    "$$\n",
    "We refer to B as a baryon block.  Usually I combine the spin and eigenvector indices into a compound index, so that that baryon tensor is a rank $N_c$ tensor with dimension $(N_c\\times N_v)^3$.\n",
    "\n",
    "For now, the code that creates $T$ functions works as expected.  Other versions look for gamma matrices with the same indices as the $T$ function, just need to think about this."
   ]
  },
  {
   "cell_type": "code",
   "execution_count": 22,
   "metadata": {},
   "outputs": [],
   "source": [
    "for d in laphDiagrams:\n",
    "    d.create_T_blocks()"
   ]
  },
  {
   "cell_type": "code",
   "execution_count": 24,
   "metadata": {},
   "outputs": [
    {
     "data": {
      "text/latex": [
       "$\\displaystyle -1.0 \\Gamma_{s_{6} s_{7}}\\Gamma_{s_{9} s_{10}}T(x_0,t_i)_{l_{9} l_{10} l_{11}}T^*(x_0,t_f)_{l_{6} l_{7} l_{8}}\\tau(x_0,t_f\\mid x_0,t_i)_{\\substack{s_{6}\\\\l_{6}}\\substack{s_{9}\\\\l_{9}}}\\tau(x_0,t_f\\mid x_0,t_i)_{\\substack{s_{7}\\\\l_{7}}\\substack{s_{10}\\\\l_{10}}}\\tau(x_0,t_f\\mid x_0,t_i)_{\\substack{s_{8}\\\\l_{8}}\\substack{s_{11}\\\\l_{11}}}$"
      ],
      "text/plain": [
       "<IPython.core.display.Math object>"
      ]
     },
     "metadata": {},
     "output_type": "display_data"
    }
   ],
   "source": [
    "pprint(laphDiagrams[0])"
   ]
  },
  {
   "cell_type": "code",
   "execution_count": null,
   "metadata": {},
   "outputs": [],
   "source": []
  },
  {
   "cell_type": "code",
   "execution_count": null,
   "metadata": {},
   "outputs": [],
   "source": []
  },
  {
   "attachments": {},
   "cell_type": "markdown",
   "metadata": {},
   "source": [
    "## Goal\n",
    "\n",
    "We want to have diagrams in the following form (schematically)\n",
    "\n",
    "$$\n",
    "d^0_{ij}=B(t)_{ikl}M(t)_{mn}B(0)_{kjm}M(0)_{ln}\n",
    "$$\n",
    "\n",
    "A list of diagrams can be plugged into a CSE/DC code i.e. the Ben Hortz one, as well as transcripted into C++ code/input into a C++ code that does tensor contractions, for example Eigen::Tensor.  See cuTensor for a GPU example."
   ]
  }
 ],
 "metadata": {
  "kernelspec": {
   "display_name": "LQCD",
   "language": "python",
   "name": "python3"
  },
  "language_info": {
   "codemirror_mode": {
    "name": "ipython",
    "version": 3
   },
   "file_extension": ".py",
   "mimetype": "text/x-python",
   "name": "python",
   "nbconvert_exporter": "python",
   "pygments_lexer": "ipython3",
   "version": "3.10.6"
  },
  "orig_nbformat": 4
 },
 "nbformat": 4,
 "nbformat_minor": 2
}
