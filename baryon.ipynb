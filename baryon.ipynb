{
 "cells": [
  {
   "attachments": {},
   "cell_type": "markdown",
   "metadata": {},
   "source": [
    "# Baryon correlator with LapH\n",
    "\n",
    "This notebook is a work in progress.  Important notes about limitations.\n",
    "\n",
    "1.  The operators used are \"Baryon Elemental\" operators, and not necassrily definite spin (lattice irrep)/isospin.  In practice the operator construction at the start needs to be done correctly.\n",
    "\n",
    "2.  Previously I was doing only mesons, or $N_c=4$ baryons, where the Baryon tensors \"defined\" below don't have any free indices.  I just need to think through what to do.  Probably most of the code in WickContractions/LapH/diagrams.py still works (and indeed T function construction does).  \n",
    "\n",
    "3.  Need to define a \"meson T function\" with $\\delta$ instead of $\\epsilon$"
   ]
  },
  {
   "cell_type": "code",
   "execution_count": 1,
   "metadata": {},
   "outputs": [],
   "source": [
    "# Avoids reloading kernel while developing\n",
    "%load_ext autoreload\n",
    "%autoreload 2"
   ]
  },
  {
   "cell_type": "code",
   "execution_count": 2,
   "metadata": {},
   "outputs": [],
   "source": [
    "from WickContractions.wick.contract import *\n",
    "from src.laph_diagram import *\n",
    "\n",
    "import os\n",
    "\n",
    "from src.utilities import *\n",
    "\n",
    "#pretty latex printing\n",
    "from IPython.display import display, Math \n",
    "pprint = lambda o : display(Math(str(o)))"
   ]
  },
  {
   "attachments": {},
   "cell_type": "markdown",
   "metadata": {},
   "source": [
    "## Operators\n",
    "\n",
    "First we have to define the operators"
   ]
  },
  {
   "cell_type": "code",
   "execution_count": 3,
   "metadata": {},
   "outputs": [],
   "source": [
    "from src.op_elementals import *\n",
    "\n",
    "aOps=[Operator([baryonSink(1,['u','u','u'],'x_0','\\\\Gamma')])]\n",
    "# protonOps = baryonSink([1,['u','u','d']), baryonSink([-1,['d','u','u']])\n",
    "cOps=[Operator([baryonSource(1,['u','u','u'],'x_0','\\\\Gamma')])]"
   ]
  },
  {
   "cell_type": "code",
   "execution_count": 4,
   "metadata": {},
   "outputs": [
    {
     "data": {
      "text/latex": [
       "$\\displaystyle 1\\epsilon_{c_{0} c_{1} c_{2}}\\Gamma_{s_{0} s_{1}}u_{s_{0} c_{0}}(x_0, t_f)u_{s_{1} c_{1}}(x_0, t_f)u_{s_{2} c_{2}}(x_0, t_f)$"
      ],
      "text/plain": [
       "<IPython.core.display.Math object>"
      ]
     },
     "metadata": {},
     "output_type": "display_data"
    },
    {
     "data": {
      "text/latex": [
       "$\\displaystyle 1\\epsilon_{c_{3} c_{4} c_{5}}\\Gamma_{s_{3} s_{4}}\\bar{u}_{s_{3} c_{3}}(x_0, t_i)\\bar{u}_{s_{4} c_{4}}(x_0, t_i)\\bar{u}_{s_{5} c_{5}}(x_0, t_i)$"
      ],
      "text/plain": [
       "<IPython.core.display.Math object>"
      ]
     },
     "metadata": {},
     "output_type": "display_data"
    }
   ],
   "source": [
    "pprint(aOps[0])\n",
    "pprint(cOps[0])\n"
   ]
  },
  {
   "cell_type": "code",
   "execution_count": 6,
   "metadata": {},
   "outputs": [
    {
     "name": "stdout",
     "output_type": "stream",
     "text": [
      "Need to compute 6 diagrams\n"
     ]
    },
    {
     "data": {
      "text/latex": [
       "$\\displaystyle \\text{diagram}[0]=-1.0 \\Gamma_{s_{0} s_{1}}\\Gamma_{s_{3} s_{4}}\\epsilon_{c_{0} c_{1} c_{2}}\\epsilon_{c_{3} c_{4} c_{5}}D^{-1}_{u}(x_0,t_f\\mid x_0,t_i)_{\\substack{s_{0}\\\\c_{0}}\\substack{s_{3}\\\\c_{3}}}D^{-1}_{u}(x_0,t_f\\mid x_0,t_i)_{\\substack{s_{1}\\\\c_{1}}\\substack{s_{4}\\\\c_{4}}}D^{-1}_{u}(x_0,t_f\\mid x_0,t_i)_{\\substack{s_{2}\\\\c_{2}}\\substack{s_{5}\\\\c_{5}}}$"
      ],
      "text/plain": [
       "<IPython.core.display.Math object>"
      ]
     },
     "metadata": {},
     "output_type": "display_data"
    }
   ],
   "source": [
    "diagrams=[]\n",
    "for i,aOp in enumerate(aOps):\n",
    "    for j,cOp in enumerate(cOps):\n",
    "        for d in contract(aOp, cOp).diagrams:\n",
    "            diagrams.append(d)\n",
    "\n",
    "print(\"Need to compute {} diagrams\".format(len(diagrams)))\n",
    "pprint(\"\\\\text{{diagram}}[0]={}\".format(diagrams[0]))"
   ]
  },
  {
   "cell_type": "code",
   "execution_count": null,
   "metadata": {},
   "outputs": [],
   "source": []
  },
  {
   "attachments": {},
   "cell_type": "markdown",
   "metadata": {},
   "source": [
    "## LapH\n",
    "\n",
    "Here we take a short cut to replace the above expressions with their LapH versions.  LapH is of course a type of smearing applied to the quarks.  At the level of propagators we can replace inversions of the diract matrix with \n",
    "\n",
    "$$\n",
    "    D^{-1}(x,t\\mid x_0 t_0)_{\\substack{s \\\\ c}\\substack{s_0 \\\\ c_0}} \\rightarrow V^*(x,t)_{c l}\\tau(x,t\\mid x_0, t_0)_{\\substack{s \\\\ l}\\substack{s_0 \\\\ l_0}}V(x_0,t_0)_{c_0 l_0}\n",
    "$$"
   ]
  },
  {
   "cell_type": "code",
   "execution_count": 8,
   "metadata": {},
   "outputs": [
    {
     "data": {
      "text/latex": [
       "$\\displaystyle -1.0 \\Gamma_{s_{0} s_{1}}\\Gamma_{s_{3} s_{4}}\\epsilon_{c_{0} c_{1} c_{2}}\\epsilon_{c_{3} c_{4} c_{5}}V^*(x_0,t_f)_{c_{0} l_{0}}V(x_0,t_i)_{c_{3} l_{3}}V^*(x_0,t_f)_{c_{1} l_{1}}V(x_0,t_i)_{c_{4} l_{4}}V^*(x_0,t_f)_{c_{2} l_{2}}V(x_0,t_i)_{c_{5} l_{5}}\\tau(x_0,t_f\\mid x_0,t_i)_{\\substack{s_{0}\\\\l_{0}}\\substack{s_{3}\\\\l_{3}}}\\tau(x_0,t_f\\mid x_0,t_i)_{\\substack{s_{1}\\\\l_{1}}\\substack{s_{4}\\\\l_{4}}}\\tau(x_0,t_f\\mid x_0,t_i)_{\\substack{s_{2}\\\\l_{2}}\\substack{s_{5}\\\\l_{5}}}$"
      ],
      "text/plain": [
       "<IPython.core.display.Math object>"
      ]
     },
     "metadata": {},
     "output_type": "display_data"
    }
   ],
   "source": [
    "laphDiagrams = [LDiagram(d) for d in copy.deepcopy(diagrams)]\n",
    "\n",
    "pprint(laphDiagrams[0])"
   ]
  },
  {
   "attachments": {},
   "cell_type": "markdown",
   "metadata": {},
   "source": [
    "The product of $V$'s, epsilons and gammas all come from specific operators, and be computed for the entire correlation matrix, thus it's useful to define the following tensors\n",
    "\n",
    "$$\n",
    "    T^B(x,t)_{l_0l_1l_2}=\\epsilon_{c_0c_1c_2}V(x,t)_{c_0l_0}V(x,t)_{c_1l_1}V(x,t)_{c_2l_2}, \\quad l_0\\in N_v \\\\\n",
    "    T^M(x,t)_{l_0l_1}=\\delta_{c_0c_1}V(x,t)_{c_0l_0}V(x,t)_{c_1l_1}\n",
    "$$\n",
    "and\n",
    "$$\n",
    "    B(x,t,\\Gamma)_{01 l_2}=\\Gamma_{s_0s_1}T(x,t)_{l_0l_1l_2} \\\\\n",
    "    M_{01}=\\Gamma_{s_0s_1}T_{l_0l_1} \\\\\n",
    "    0,1 \\in {4\\times N_v}\n",
    "$$\n",
    "We refer to B as a baryon block.  Usually I combine the spin and eigenvector indices into a compound index, so that that baryon tensor is a rank $N_c$ tensor with dimension $(N_c\\times N_v)^3$.\n",
    "\n",
    "For now, the code that creates $T$ functions works as expected.  Other versions look for gamma matrices with the same indices as the $T$ function, just need to think about this."
   ]
  },
  {
   "cell_type": "code",
   "execution_count": 11,
   "metadata": {},
   "outputs": [],
   "source": [
    "for d in laphDiagrams:\n",
    "    d.create_T_blocks()"
   ]
  },
  {
   "cell_type": "code",
   "execution_count": 12,
   "metadata": {},
   "outputs": [
    {
     "data": {
      "text/latex": [
       "$\\displaystyle -1.0 \\Gamma_{s_{0} s_{1}}\\Gamma_{s_{3} s_{4}}T(x_0,t_i)_{l_{3} l_{4} l_{5}}T^*(x_0,t_f)_{l_{0} l_{1} l_{2}}\\tau(x_0,t_f\\mid x_0,t_i)_{\\substack{s_{0}\\\\l_{0}}\\substack{s_{3}\\\\l_{3}}}\\tau(x_0,t_f\\mid x_0,t_i)_{\\substack{s_{1}\\\\l_{1}}\\substack{s_{4}\\\\l_{4}}}\\tau(x_0,t_f\\mid x_0,t_i)_{\\substack{s_{2}\\\\l_{2}}\\substack{s_{5}\\\\l_{5}}}$"
      ],
      "text/plain": [
       "<IPython.core.display.Math object>"
      ]
     },
     "metadata": {},
     "output_type": "display_data"
    }
   ],
   "source": [
    "pprint(laphDiagrams[0])"
   ]
  },
  {
   "cell_type": "code",
   "execution_count": null,
   "metadata": {},
   "outputs": [],
   "source": []
  },
  {
   "attachments": {},
   "cell_type": "markdown",
   "metadata": {},
   "source": [
    "## BPROP\n",
    "\n",
    "Take one of the Baryon blocks and contract with perambulators"
   ]
  },
  {
   "attachments": {},
   "cell_type": "markdown",
   "metadata": {},
   "source": [
    "## Goal\n",
    "\n",
    "We want to have diagrams in the following form (schematically)\n",
    "\n",
    "$$\n",
    "d^0_{lj}=B(t)_{ikl}B(0)_{kij} \\\\\n",
    "d^1_{lj}=B(t)_{kil}B(0)_{kij} \\\\\n",
    "$$\n",
    "\n",
    "\n",
    "The computation follows the path of \n",
    "\n",
    "1.  Compute all the T functions (and meson ones)\n",
    "2.  Compute all the M and B functions. \n",
    "3.  Contract according to the rules given by diagrams.  For the above two diagrams it would be \n",
    "\n",
    "* For optimization a list of diagrams can be plugged into a CSE/DC code i.e. the Ben Hortz one.\n",
    "* I also write a \"translator\" that takes expressions like the one above and converts into a C++ code\n",
    "that uses some library to evaluate the contractions.  Eigen::Tensor/cuTensor I can talk more about this/show examples.\n",
    "\n",
    "contract( B[0], B[1], {{0,1,2},{0,1,3}} )\n",
    "\n",
    "contract( B[0], B[1], {{1,0,2},{0,1,3}} )"
   ]
  },
  {
   "attachments": {},
   "cell_type": "markdown",
   "metadata": {},
   "source": []
  }
 ],
 "metadata": {
  "kernelspec": {
   "display_name": "LQCD",
   "language": "python",
   "name": "python3"
  },
  "language_info": {
   "codemirror_mode": {
    "name": "ipython",
    "version": 3
   },
   "file_extension": ".py",
   "mimetype": "text/x-python",
   "name": "python",
   "nbconvert_exporter": "python",
   "pygments_lexer": "ipython3",
   "version": "3.9.7"
  },
  "orig_nbformat": 4
 },
 "nbformat": 4,
 "nbformat_minor": 2
}
