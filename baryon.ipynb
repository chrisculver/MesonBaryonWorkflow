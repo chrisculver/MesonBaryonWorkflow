{
 "cells": [
  {
   "cell_type": "code",
   "execution_count": 1,
   "metadata": {},
   "outputs": [],
   "source": [
    "# Avoids reloading kernel while developing\n",
    "%load_ext autoreload\n",
    "%autoreload 2"
   ]
  },
  {
   "cell_type": "code",
   "execution_count": 2,
   "metadata": {},
   "outputs": [],
   "source": [
    "from WickContractions.wick.contract import *\n",
    "from WickContractions.laph.diagram import *\n",
    "\n",
    "import os\n",
    "\n",
    "from src.utilities import *\n",
    "\n",
    "#pretty latex printing\n",
    "from IPython.display import display, Math \n",
    "pprint = lambda o : display(Math(str(o)))"
   ]
  },
  {
   "attachments": {},
   "cell_type": "markdown",
   "metadata": {},
   "source": [
    "## Operators\n",
    "\n",
    "First we have to define the operators"
   ]
  },
  {
   "cell_type": "code",
   "execution_count": 3,
   "metadata": {},
   "outputs": [],
   "source": [
    "from src.op_elementals import *\n",
    "\n",
    "aOps=[Operator([baryonSink(1,['u','u','u'],'x_0','\\\\Gamma')])]\n",
    "cOps=[Operator([baryonSource(1,['u','u','u'],'x_0','\\\\Gamma')])]"
   ]
  },
  {
   "cell_type": "code",
   "execution_count": 4,
   "metadata": {},
   "outputs": [
    {
     "data": {
      "text/latex": [
       "$\\displaystyle 1\\epsilon_{c_{0} c_{1} c_{2}}\\Gamma_{s_{0} s_{1}}u_{s_{0} c_{0}}(x_0, t_f)u_{s_{1} c_{1}}(x_0, t_f)u_{s_{2} c_{2}}(x_0, t_f)$"
      ],
      "text/plain": [
       "<IPython.core.display.Math object>"
      ]
     },
     "metadata": {},
     "output_type": "display_data"
    },
    {
     "data": {
      "text/latex": [
       "$\\displaystyle 1\\epsilon_{c_{3} c_{4} c_{5}}\\Gamma_{s_{3} s_{4}}\\bar{u}_{s_{3} c_{3}}(x_0, t_i)\\bar{u}_{s_{4} c_{4}}(x_0, t_i)\\bar{u}_{s_{5} c_{5}}(x_0, t_i)$"
      ],
      "text/plain": [
       "<IPython.core.display.Math object>"
      ]
     },
     "metadata": {},
     "output_type": "display_data"
    }
   ],
   "source": [
    "pprint(aOps[0])\n",
    "pprint(cOps[0])\n"
   ]
  },
  {
   "cell_type": "code",
   "execution_count": 5,
   "metadata": {},
   "outputs": [
    {
     "name": "stdout",
     "output_type": "stream",
     "text": [
      "Need to compute 6 diagrams\n"
     ]
    },
    {
     "data": {
      "text/latex": [
       "$\\displaystyle \\text{diagram}[0]=-1.0 \\Gamma_{s_{0} s_{1}}\\Gamma_{s_{3} s_{4}}\\epsilon_{c_{0} c_{1} c_{2}}\\epsilon_{c_{3} c_{4} c_{5}}D^{-1}_{u}(x_0,t_f\\mid x_0,t_i)_{\\substack{s_{0}\\\\c_{0}}\\substack{s_{3}\\\\c_{3}}}D^{-1}_{u}(x_0,t_f\\mid x_0,t_i)_{\\substack{s_{1}\\\\c_{1}}\\substack{s_{4}\\\\c_{4}}}D^{-1}_{u}(x_0,t_f\\mid x_0,t_i)_{\\substack{s_{2}\\\\c_{2}}\\substack{s_{5}\\\\c_{5}}}$"
      ],
      "text/plain": [
       "<IPython.core.display.Math object>"
      ]
     },
     "metadata": {},
     "output_type": "display_data"
    }
   ],
   "source": [
    "diagrams=[]\n",
    "for i,aOp in enumerate(aOps):\n",
    "    for j,cOp in enumerate(cOps):\n",
    "        for d in contract(aOp, cOp).diagrams:\n",
    "            diagrams.append(d)\n",
    "\n",
    "print(\"Need to compute {} diagrams\".format(len(diagrams)))\n",
    "pprint(\"\\\\text{{diagram}}[0]={}\".format(diagrams[0]))"
   ]
  },
  {
   "cell_type": "code",
   "execution_count": 6,
   "metadata": {},
   "outputs": [
    {
     "data": {
      "text/latex": [
       "$\\displaystyle -1.0 \\Gamma_{s_{0} s_{1}}\\Gamma_{s_{3} s_{4}}\\epsilon_{c_{0} c_{1} c_{2}}\\epsilon_{c_{3} c_{4} c_{5}}V*(x_0,t_f)_{c_{0} l_{0}}V(x_0,t_i)_{c_{3} l_{3}}V*(x_0,t_f)_{c_{1} l_{1}}V(x_0,t_i)_{c_{4} l_{4}}V*(x_0,t_f)_{c_{2} l_{2}}V(x_0,t_i)_{c_{5} l_{5}}\\tau(x_0,t_f\\mid x_0,t_i)_{\\substack{s_{0}\\\\l_{0}}\\substack{s_{3}\\\\l_{3}}}\\tau(x_0,t_f\\mid x_0,t_i)_{\\substack{s_{1}\\\\l_{1}}\\substack{s_{4}\\\\l_{4}}}\\tau(x_0,t_f\\mid x_0,t_i)_{\\substack{s_{2}\\\\l_{2}}\\substack{s_{5}\\\\l_{5}}}$"
      ],
      "text/plain": [
       "<IPython.core.display.Math object>"
      ]
     },
     "metadata": {},
     "output_type": "display_data"
    }
   ],
   "source": [
    "laphDiagrams = [LDiagram(d) for d in copy.deepcopy(diagrams)]\n",
    "\n",
    "pprint(laphDiagrams[0])"
   ]
  },
  {
   "cell_type": "code",
   "execution_count": 7,
   "metadata": {},
   "outputs": [],
   "source": [
    "for d in laphDiagrams:\n",
    "    d.create_T_blocks()"
   ]
  },
  {
   "cell_type": "code",
   "execution_count": 8,
   "metadata": {},
   "outputs": [
    {
     "data": {
      "text/latex": [
       "$\\displaystyle -1.0 \\Gamma_{s_{0} s_{1}}\\Gamma_{s_{3} s_{4}}T(x_0,t_i)_{l_{3} l_{4} l_{5}}T^*(x_0,t_f)_{l_{0} l_{1} l_{2}}\\tau(x_0,t_f\\mid x_0,t_i)_{\\substack{s_{0}\\\\l_{0}}\\substack{s_{3}\\\\l_{3}}}\\tau(x_0,t_f\\mid x_0,t_i)_{\\substack{s_{1}\\\\l_{1}}\\substack{s_{4}\\\\l_{4}}}\\tau(x_0,t_f\\mid x_0,t_i)_{\\substack{s_{2}\\\\l_{2}}\\substack{s_{5}\\\\l_{5}}}$"
      ],
      "text/plain": [
       "<IPython.core.display.Math object>"
      ]
     },
     "metadata": {},
     "output_type": "display_data"
    }
   ],
   "source": [
    "pprint(laphDiagrams[0])"
   ]
  },
  {
   "cell_type": "code",
   "execution_count": null,
   "metadata": {},
   "outputs": [],
   "source": []
  }
 ],
 "metadata": {
  "kernelspec": {
   "display_name": "LQCD",
   "language": "python",
   "name": "python3"
  },
  "language_info": {
   "codemirror_mode": {
    "name": "ipython",
    "version": 3
   },
   "file_extension": ".py",
   "mimetype": "text/x-python",
   "name": "python",
   "nbconvert_exporter": "python",
   "pygments_lexer": "ipython3",
   "version": "3.10.6"
  },
  "orig_nbformat": 4
 },
 "nbformat": 4,
 "nbformat_minor": 2
}
